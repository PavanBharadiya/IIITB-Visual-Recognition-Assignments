{
 "cells": [
  {
   "cell_type": "markdown",
   "metadata": {},
   "source": [
    "# Face Recognition using LBP"
   ]
  },
  {
   "cell_type": "code",
   "execution_count": 35,
   "metadata": {},
   "outputs": [],
   "source": [
    "from skimage import feature\n",
    "import cv2\n",
    "import numpy as np\n",
    "import os\n",
    "\n",
    "# To calculate a normalized histogram \n",
    "from scipy.stats import itemfreq\n",
    "from sklearn.preprocessing import normalize\n",
    "\n",
    "from sklearn.model_selection import train_test_split\n",
    "from sklearn.svm import LinearSVC\n",
    "from sklearn.metrics import accuracy_score"
   ]
  },
  {
   "cell_type": "code",
   "execution_count": 57,
   "metadata": {},
   "outputs": [],
   "source": [
    "# reading in the images\n",
    "sourceFolder = \"face_datasets/aligned_AVR2_data/aligned_data/\"\n",
    "folders = os.listdir(sourceFolder)\n",
    "\n",
    "allImages = []\n",
    "allLabels = []\n",
    "\n",
    "# for every folder\n",
    "for folder in folders:\n",
    "    # folder path to that folder\n",
    "    folder_path = sourceFolder + folder\n",
    "    \n",
    "    # read in the image names for that folder\n",
    "    image_names = os.listdir(folder_path)\n",
    "    \n",
    "    # read in the individual images\n",
    "    for img in image_names:\n",
    "        if (img == \"Thumbs.db\"):\n",
    "            continue\n",
    "        allImages.append(cv2.imread(folder_path + \"/\" + img, cv2.IMREAD_GRAYSCALE))\n",
    "        allLabels.append(folder)\n",
    "    \n",
    "    # flatenning and vertically stacking all images\n",
    "    vStack = np.asarray(allImages[0]).reshape(1, -1)\n",
    "    for img in allImages[1:]:\n",
    "        vStack = np.vstack((vStack, np.asarray(img).reshape(1, -1)))"
   ]
  },
  {
   "cell_type": "code",
   "execution_count": 58,
   "metadata": {},
   "outputs": [],
   "source": [
    "# finding the feature histogram\n",
    "data = []\n",
    "for img in allImages:\n",
    "    numPoints=90\n",
    "    radius=15\n",
    "    lbp = feature.local_binary_pattern(img, P=numPoints, R=radius, method=\"uniform\")\n",
    "    (hist, _) = np.histogram(lbp.ravel(), bins=np.arange(0, numPoints + 3), range=(0, numPoints + 2))\n",
    "    eps=1e-7\n",
    "    hist = hist.astype(\"float\")\n",
    "    hist /= (hist.sum() + eps)\n",
    "    data.append(hist)"
   ]
  },
  {
   "cell_type": "code",
   "execution_count": 59,
   "metadata": {},
   "outputs": [],
   "source": [
    "# splitting into training and testing datasets\n",
    "trainImages, testImages, trainLabels, testLabels = train_test_split(data, \n",
    "            allLabels, stratify=allLabels, test_size=0.2, random_state=42)"
   ]
  },
  {
   "cell_type": "code",
   "execution_count": 60,
   "metadata": {},
   "outputs": [
    {
     "name": "stderr",
     "output_type": "stream",
     "text": [
      "/home/vasu/anaconda3/lib/python3.6/site-packages/sklearn/svm/base.py:922: ConvergenceWarning: Liblinear failed to converge, increase the number of iterations.\n",
      "  \"the number of iterations.\", ConvergenceWarning)\n"
     ]
    },
    {
     "data": {
      "text/plain": [
       "LinearSVC(C=116, class_weight=None, dual=True, fit_intercept=True,\n",
       "     intercept_scaling=1, loss='squared_hinge', max_iter=1000,\n",
       "     multi_class='ovr', penalty='l2', random_state=42, tol=0.0001,\n",
       "     verbose=0)"
      ]
     },
     "execution_count": 60,
     "metadata": {},
     "output_type": "execute_result"
    }
   ],
   "source": [
    "# training the SVM classifier\n",
    "model = LinearSVC(C=116, random_state=42)\n",
    "model.fit(trainImages, trainLabels)"
   ]
  },
  {
   "cell_type": "code",
   "execution_count": 61,
   "metadata": {},
   "outputs": [],
   "source": [
    "# making a prediction on test data\n",
    "predicted = model.predict(testImages)"
   ]
  },
  {
   "cell_type": "code",
   "execution_count": 62,
   "metadata": {},
   "outputs": [
    {
     "data": {
      "text/plain": [
       "29.927007299270077"
      ]
     },
     "execution_count": 62,
     "metadata": {},
     "output_type": "execute_result"
    }
   ],
   "source": [
    "# finding the accuracy\n",
    "accuracy_score(testLabels, predicted) * 100"
   ]
  },
  {
   "cell_type": "markdown",
   "metadata": {},
   "source": [
    "# Making Top 3 and Top 10 predictions"
   ]
  },
  {
   "cell_type": "code",
   "execution_count": 63,
   "metadata": {},
   "outputs": [],
   "source": [
    "confidence = model.decision_function(testImages)\n",
    "\n",
    "classes = model.classes_"
   ]
  },
  {
   "cell_type": "code",
   "execution_count": 64,
   "metadata": {},
   "outputs": [
    {
     "name": "stdout",
     "output_type": "stream",
     "text": [
      "Top 3 Accuracy: 54.01459854014598\n",
      "Top 10 Accuracy: 76.64233576642336\n"
     ]
    }
   ],
   "source": [
    "# for every test image we order the confidence scores in descreasing order with their labels\n",
    "a=[]\n",
    "for i in range(len(testImages)):\n",
    "    t = zip(confidence[i], classes.copy())\n",
    "    t = sorted(t, reverse=True)\n",
    "    x, y = zip(*t)\n",
    "    a.append(y)\n",
    "    \n",
    "# Top 3\n",
    "accuracy_count = 0\n",
    "for i in range(len(testImages)):\n",
    "    if (testLabels[i] in a[i][:3]):\n",
    "        accuracy_count += 1\n",
    "        \n",
    "print (\"Top 3 Accuracy: \" + str((accuracy_count / len(testImages)) * 100))\n",
    "\n",
    "# Top 10\n",
    "accuracy_count = 0\n",
    "for i in range(len(testImages)):\n",
    "    if (testLabels[i] in a[i][:10]):\n",
    "        accuracy_count += 1\n",
    "        \n",
    "print (\"Top 10 Accuracy: \" + str((accuracy_count / len(testImages)) * 100))"
   ]
  }
 ],
 "metadata": {
  "kernelspec": {
   "display_name": "Python 3",
   "language": "python",
   "name": "python3"
  },
  "language_info": {
   "codemirror_mode": {
    "name": "ipython",
    "version": 3
   },
   "file_extension": ".py",
   "mimetype": "text/x-python",
   "name": "python",
   "nbconvert_exporter": "python",
   "pygments_lexer": "ipython3",
   "version": "3.6.2"
  }
 },
 "nbformat": 4,
 "nbformat_minor": 2
}
