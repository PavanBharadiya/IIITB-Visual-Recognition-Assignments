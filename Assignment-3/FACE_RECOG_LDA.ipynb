{
 "cells": [
  {
   "cell_type": "markdown",
   "metadata": {},
   "source": [
    "# Face Recognition using LDA"
   ]
  },
  {
   "cell_type": "code",
   "execution_count": 71,
   "metadata": {},
   "outputs": [],
   "source": [
    "from sklearn.discriminant_analysis import LinearDiscriminantAnalysis\n",
    "import os\n",
    "import cv2\n",
    "import numpy as np\n",
    "from sklearn.model_selection import train_test_split\n",
    "from sklearn.metrics import accuracy_score"
   ]
  },
  {
   "cell_type": "markdown",
   "metadata": {},
   "source": [
    "# Training and Calculating Top 1 Accuracy Scores"
   ]
  },
  {
   "cell_type": "code",
   "execution_count": 85,
   "metadata": {},
   "outputs": [],
   "source": [
    "# define the LDA object\n",
    "lda = LinearDiscriminantAnalysis()"
   ]
  },
  {
   "cell_type": "code",
   "execution_count": 86,
   "metadata": {},
   "outputs": [],
   "source": [
    "# reading in the images and vertically stacking them\n",
    "sourceFolder = \"./face_datasets/AVR_data_extracted_539/\"\n",
    "folders = os.listdir(sourceFolder)\n",
    "\n",
    "allImages = []\n",
    "allLabels = []\n",
    "\n",
    "# for every folder\n",
    "for folder in folders:\n",
    "    # folder path to that folder\n",
    "    folder_path = sourceFolder + \"/\" + folder\n",
    "            \n",
    "    # read in the image names for that folder\n",
    "    image_names = os.listdir(folder_path)\n",
    "            \n",
    "    # read in the individual images\n",
    "    for img in image_names:\n",
    "        if (img == \"Thumbs.db\"):\n",
    "            continue\n",
    "        allImages.append(cv2.imread(folder_path + \"/\" + img, cv2.IMREAD_GRAYSCALE))\n",
    "        allLabels.append(folder)\n",
    "                \n",
    "    # flatenning and vertically stacking all images\n",
    "    vStack = np.asarray(allImages[0]).reshape(1, -1)\n",
    "    for img in allImages[1:]:\n",
    "        vStack = np.vstack((vStack, np.asarray(img).reshape(1, -1)))"
   ]
  },
  {
   "cell_type": "code",
   "execution_count": 87,
   "metadata": {},
   "outputs": [
    {
     "name": "stdout",
     "output_type": "stream",
     "text": [
      "# images: 546\n",
      "image size: (200, 200)\n",
      "vStack size: (546, 40000)\n"
     ]
    }
   ],
   "source": [
    "# raw dataset read\n",
    "print (\"# images: \" + str(len(allImages)))\n",
    "print (\"image size: \" + str(allImages[0].shape))\n",
    "print (\"vStack size: \" + str(vStack.shape))"
   ]
  },
  {
   "cell_type": "code",
   "execution_count": 125,
   "metadata": {},
   "outputs": [],
   "source": [
    "# train, test split\n",
    "trainImages, testImages, trainLabels, testLabels = train_test_split(vStack, allLabels, stratify=allLabels, test_size=.1, random_state=1024)"
   ]
  },
  {
   "cell_type": "code",
   "execution_count": 126,
   "metadata": {},
   "outputs": [
    {
     "name": "stdout",
     "output_type": "stream",
     "text": [
      "train vStack size: (491, 40000)\n",
      "train labels size: 491\n",
      "test vStack size: (55, 40000)\n",
      "test labels size: 55\n"
     ]
    }
   ],
   "source": [
    "# check the size of trian and test images\n",
    "print (\"train vStack size: \" + str(trainImages.shape))\n",
    "print (\"train labels size: \" + str(len(trainImages)))\n",
    "print (\"test vStack size: \" + str(testImages.shape))\n",
    "print (\"test labels size: \" + str(len(testImages)))"
   ]
  },
  {
   "cell_type": "code",
   "execution_count": 127,
   "metadata": {},
   "outputs": [
    {
     "name": "stderr",
     "output_type": "stream",
     "text": [
      "F:\\install_dir\\Anaconda\\envs\\py36\\lib\\site-packages\\sklearn\\discriminant_analysis.py:442: UserWarning: The priors do not sum to 1. Renormalizing\n",
      "  UserWarning)\n",
      "F:\\install_dir\\Anaconda\\envs\\py36\\lib\\site-packages\\sklearn\\discriminant_analysis.py:388: UserWarning: Variables are collinear.\n",
      "  warnings.warn(\"Variables are collinear.\")\n"
     ]
    },
    {
     "data": {
      "text/plain": [
       "LinearDiscriminantAnalysis(n_components=None, priors=None, shrinkage=None,\n",
       "              solver='svd', store_covariance=False, tol=0.0001)"
      ]
     },
     "execution_count": 127,
     "metadata": {},
     "output_type": "execute_result"
    }
   ],
   "source": [
    "# fit the LDA model\n",
    "lda.fit(trainImages, trainLabels)"
   ]
  },
  {
   "cell_type": "code",
   "execution_count": 128,
   "metadata": {},
   "outputs": [
    {
     "name": "stdout",
     "output_type": "stream",
     "text": [
      "Top 1 Accuracy: 36.36363636363637%\n"
     ]
    }
   ],
   "source": [
    "# calculate the accuracy on test data set\n",
    "outVal = lda.score(testImages, testLabels)\n",
    "print('Top 1 Accuracy: ' + str(outVal * 100) + \"%\")"
   ]
  },
  {
   "cell_type": "markdown",
   "metadata": {},
   "source": [
    "# Calculating Top 3 and Top 10 Accuracy Scores"
   ]
  },
  {
   "cell_type": "code",
   "execution_count": 129,
   "metadata": {},
   "outputs": [],
   "source": [
    "# get the lda decision funtion which gives the confidence\n",
    "confidence = lda.decision_function(testImages)\n",
    "\n",
    "# getting how the LDA sorts the classes\n",
    "lda_classes = lda.classes_"
   ]
  },
  {
   "cell_type": "code",
   "execution_count": 130,
   "metadata": {},
   "outputs": [
    {
     "name": "stdout",
     "output_type": "stream",
     "text": [
      "Top 3 Accuracy: 41.81818181818181\n",
      "Top 10 Accuracy: 58.18181818181818\n"
     ]
    }
   ],
   "source": [
    "# for every test image we order the confidence scores in descreasing order with their labels\n",
    "a=[]\n",
    "for i in range(len(testImages)):\n",
    "    t = zip(confidence[i], lda_classes.copy())\n",
    "    t = sorted(t, reverse=True)\n",
    "    x, y = zip(*t)\n",
    "    a.append(y)\n",
    "    \n",
    "# Top 3\n",
    "accuracy_count = 0\n",
    "for i in range(len(testImages)):\n",
    "    if (testLabels[i] in a[i][:3]):\n",
    "        accuracy_count += 1\n",
    "        \n",
    "print (\"Top 3 Accuracy: \" + str((accuracy_count / len(testImages)) * 100))\n",
    "\n",
    "# Top 10\n",
    "accuracy_count = 0\n",
    "for i in range(len(testImages)):\n",
    "    if (testLabels[i] in a[i][:10]):\n",
    "        accuracy_count += 1\n",
    "        \n",
    "print (\"Top 10 Accuracy: \" + str((accuracy_count / len(testImages)) * 100))"
   ]
  }
 ],
 "metadata": {
  "kernelspec": {
   "display_name": "Python 3",
   "language": "python",
   "name": "python3"
  },
  "language_info": {
   "codemirror_mode": {
    "name": "ipython",
    "version": 3
   },
   "file_extension": ".py",
   "mimetype": "text/x-python",
   "name": "python",
   "nbconvert_exporter": "python",
   "pygments_lexer": "ipython3",
   "version": "3.6.2"
  }
 },
 "nbformat": 4,
 "nbformat_minor": 2
}
